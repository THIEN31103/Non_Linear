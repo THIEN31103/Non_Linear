{
 "cells": [
  {
   "cell_type": "code",
   "execution_count": 528,
   "id": "607623d9",
   "metadata": {},
   "outputs": [],
   "source": [
    "import numpy as np\n",
    "import pandas as pd\n",
    "import matplotlib.pyplot as plt"
   ]
  },
  {
   "cell_type": "markdown",
   "id": "fcf9cb4b",
   "metadata": {},
   "source": [
    "# Load data"
   ]
  },
  {
   "cell_type": "code",
   "execution_count": 529,
   "id": "780ad7fb",
   "metadata": {},
   "outputs": [
    {
     "data": {
      "text/html": [
       "<div>\n",
       "<style scoped>\n",
       "    .dataframe tbody tr th:only-of-type {\n",
       "        vertical-align: middle;\n",
       "    }\n",
       "\n",
       "    .dataframe tbody tr th {\n",
       "        vertical-align: top;\n",
       "    }\n",
       "\n",
       "    .dataframe thead th {\n",
       "        text-align: right;\n",
       "    }\n",
       "</style>\n",
       "<table border=\"1\" class=\"dataframe\">\n",
       "  <thead>\n",
       "    <tr style=\"text-align: right;\">\n",
       "      <th></th>\n",
       "      <th>Position</th>\n",
       "      <th>Level</th>\n",
       "      <th>Salary</th>\n",
       "    </tr>\n",
       "  </thead>\n",
       "  <tbody>\n",
       "    <tr>\n",
       "      <th>0</th>\n",
       "      <td>Business Analyst</td>\n",
       "      <td>1</td>\n",
       "      <td>45000</td>\n",
       "    </tr>\n",
       "    <tr>\n",
       "      <th>1</th>\n",
       "      <td>Junior Consultant</td>\n",
       "      <td>2</td>\n",
       "      <td>50000</td>\n",
       "    </tr>\n",
       "    <tr>\n",
       "      <th>2</th>\n",
       "      <td>Senior Consultant</td>\n",
       "      <td>3</td>\n",
       "      <td>60000</td>\n",
       "    </tr>\n",
       "    <tr>\n",
       "      <th>3</th>\n",
       "      <td>Manager</td>\n",
       "      <td>4</td>\n",
       "      <td>80000</td>\n",
       "    </tr>\n",
       "    <tr>\n",
       "      <th>4</th>\n",
       "      <td>Country Manager</td>\n",
       "      <td>5</td>\n",
       "      <td>110000</td>\n",
       "    </tr>\n",
       "    <tr>\n",
       "      <th>5</th>\n",
       "      <td>Region Manager</td>\n",
       "      <td>6</td>\n",
       "      <td>150000</td>\n",
       "    </tr>\n",
       "    <tr>\n",
       "      <th>6</th>\n",
       "      <td>Partner</td>\n",
       "      <td>7</td>\n",
       "      <td>200000</td>\n",
       "    </tr>\n",
       "    <tr>\n",
       "      <th>7</th>\n",
       "      <td>Senior Partner</td>\n",
       "      <td>8</td>\n",
       "      <td>300000</td>\n",
       "    </tr>\n",
       "    <tr>\n",
       "      <th>8</th>\n",
       "      <td>C-level</td>\n",
       "      <td>9</td>\n",
       "      <td>500000</td>\n",
       "    </tr>\n",
       "    <tr>\n",
       "      <th>9</th>\n",
       "      <td>CEO</td>\n",
       "      <td>10</td>\n",
       "      <td>1000000</td>\n",
       "    </tr>\n",
       "  </tbody>\n",
       "</table>\n",
       "</div>"
      ],
      "text/plain": [
       "            Position  Level   Salary\n",
       "0   Business Analyst      1    45000\n",
       "1  Junior Consultant      2    50000\n",
       "2  Senior Consultant      3    60000\n",
       "3            Manager      4    80000\n",
       "4    Country Manager      5   110000\n",
       "5     Region Manager      6   150000\n",
       "6            Partner      7   200000\n",
       "7     Senior Partner      8   300000\n",
       "8            C-level      9   500000\n",
       "9                CEO     10  1000000"
      ]
     },
     "execution_count": 529,
     "metadata": {},
     "output_type": "execute_result"
    }
   ],
   "source": [
    "df = pd.read_csv(r'E:\\AIO\\Non_Linear\\Data\\Salaries.csv')\n",
    "df"
   ]
  },
  {
   "cell_type": "code",
   "execution_count": 530,
   "id": "41dc55dd",
   "metadata": {},
   "outputs": [
    {
     "data": {
      "text/plain": [
       "0     1\n",
       "1     2\n",
       "2     3\n",
       "3     4\n",
       "4     5\n",
       "5     6\n",
       "6     7\n",
       "7     8\n",
       "8     9\n",
       "9    10\n",
       "Name: Level, dtype: int64"
      ]
     },
     "execution_count": 530,
     "metadata": {},
     "output_type": "execute_result"
    }
   ],
   "source": [
    "X = df.Level\n",
    "X"
   ]
  },
  {
   "cell_type": "code",
   "execution_count": 531,
   "id": "da5e29da",
   "metadata": {},
   "outputs": [
    {
     "data": {
      "text/plain": [
       "0      45000\n",
       "1      50000\n",
       "2      60000\n",
       "3      80000\n",
       "4     110000\n",
       "5     150000\n",
       "6     200000\n",
       "7     300000\n",
       "8     500000\n",
       "9    1000000\n",
       "Name: Salary, dtype: int64"
      ]
     },
     "execution_count": 531,
     "metadata": {},
     "output_type": "execute_result"
    }
   ],
   "source": [
    "y = df.Salary\n",
    "y"
   ]
  },
  {
   "cell_type": "code",
   "execution_count": 532,
   "id": "18471af1",
   "metadata": {},
   "outputs": [
    {
     "data": {
      "image/png": "[encoded data removed]",
      "text/plain": [
       "<Figure size 640x480 with 1 Axes>"
      ]
     },
     "metadata": {},
     "output_type": "display_data"
    }
   ],
   "source": [
    "plt.scatter(X,y)\n",
    "plt.xlabel('Level')\n",
    "plt.ylabel('Salary')\n",
    "plt.show()"
   ]
  },
  {
   "cell_type": "markdown",
   "id": "f1192b53",
   "metadata": {},
   "source": [
    "# Linear Regression"
   ]
  },
  {
   "cell_type": "code",
   "execution_count": 533,
   "id": "d1f19683",
   "metadata": {},
   "outputs": [],
   "source": [
    "def r2score(y_pred, y):\n",
    "    rss = np.sum((y_pred - y)**2)\n",
    "    tss = np.sum((y- y.mean())**2)\n",
    "    r2 = 1 - (rss/tss)\n",
    "    return r2"
   ]
  },
  {
   "cell_type": "code",
   "execution_count": 534,
   "id": "05beda53",
   "metadata": {},
   "outputs": [
    {
     "data": {
      "text/plain": [
       "(10,)"
      ]
     },
     "execution_count": 534,
     "metadata": {},
     "output_type": "execute_result"
    }
   ],
   "source": [
    "X.shape"
   ]
  },
  {
   "cell_type": "code",
   "execution_count": 535,
   "id": "7fa76250",
   "metadata": {},
   "outputs": [],
   "source": [
    "class LinearRegression:\n",
    "    def __init__(self, X_data, y_target, learning_rate=0.01, num_epochs = 100):\n",
    "        self.X_data = X_data\n",
    "        self.y_target = y_target\n",
    "        self.learning_rate = learning_rate\n",
    "        self.num_epochs = num_epochs\n",
    "        self.num_samples = self.X_data.shape[0]\n",
    "\n",
    "        #Initial Coefficients\n",
    "        self.theta = np.random.randn(self.X_data.shape[1])\n",
    "        self.losses = []\n",
    "    \n",
    "    def compute_loss(self, y_pred, y_target):\n",
    "        loss = (y_pred - y_target)*(y_pred - y_target)\n",
    "        loss = np.mean(loss)\n",
    "        return loss\n",
    "    \n",
    "    def predict(self, X_data):\n",
    "        y_pred = X_data.dot(self.theta)\n",
    "        return y_pred\n",
    "    \n",
    "    def fit(self):\n",
    "        for epoch in range(self.num_epochs):\n",
    "            #predict\n",
    "            y_pred = self.predict(self.X_data)\n",
    "\n",
    "            #compute loss\n",
    "            loss = self.compute_loss(y_pred, self.y_target)\n",
    "            self.losses.append(loss)\n",
    "\n",
    "            #compute gradient\n",
    "            k = 2*(y_pred - self.y_target)\n",
    "            gradient = self.X_data.T.dot(k)/self.num_samples\n",
    "\n",
    "            #update weights\n",
    "            self.theta = self.theta - self.learning_rate*gradient\n",
    "\n",
    "            print(f'Epoch: {epoch} - Loss: {loss}')\n",
    "\n",
    "        return {\n",
    "            'loss': sum(self.losses)/len(self.losses),\n",
    "            'weight': self.theta\n",
    "        }"
   ]
  },
  {
   "cell_type": "code",
   "execution_count": 536,
   "id": "b8aec57b",
   "metadata": {},
   "outputs": [
    {
     "data": {
      "text/plain": [
       "(10, 1)"
      ]
     },
     "execution_count": 536,
     "metadata": {},
     "output_type": "execute_result"
    }
   ],
   "source": [
    "X_linear = X.values.reshape(-1, 1)\n",
    "X_linear.shape"
   ]
  },
  {
   "cell_type": "code",
   "execution_count": 537,
   "id": "7429332c",
   "metadata": {},
   "outputs": [
    {
     "data": {
      "text/plain": [
       "array([[ 1.,  1.],\n",
       "       [ 1.,  2.],\n",
       "       [ 1.,  3.],\n",
       "       [ 1.,  4.],\n",
       "       [ 1.,  5.],\n",
       "       [ 1.,  6.],\n",
       "       [ 1.,  7.],\n",
       "       [ 1.,  8.],\n",
       "       [ 1.,  9.],\n",
       "       [ 1., 10.]])"
      ]
     },
     "execution_count": 537,
     "metadata": {},
     "output_type": "execute_result"
    }
   ],
   "source": [
    "X_linear = X.values.reshape(-1, 1)\n",
    "X_linear = np.hstack((np.ones((X_linear.shape[0], 1)), X_linear))\n",
    "X_linear"
   ]
  },
  {
   "cell_type": "code",
   "execution_count": 538,
   "id": "655cc1c8",
   "metadata": {},
   "outputs": [
    {
     "name": "stdout",
     "output_type": "stream",
     "text": [
      "Epoch: 0 - Loss: 142911618814.63153\n",
      "Epoch: 1 - Loss: 40361205134.2025\n",
      "Epoch: 2 - Loss: 35586200131.923874\n",
      "Epoch: 3 - Loss: 35297857332.73277\n",
      "Epoch: 4 - Loss: 35215949555.91012\n",
      "Epoch: 5 - Loss: 35144088938.073715\n",
      "Epoch: 6 - Loss: 35073260096.18069\n",
      "Epoch: 7 - Loss: 35003044607.34171\n",
      "Epoch: 8 - Loss: 34933418529.69971\n",
      "Epoch: 9 - Loss: 34864376060.51813\n",
      "Epoch: 10 - Loss: 34795912268.73785\n",
      "Epoch: 11 - Loss: 34728022302.39149\n",
      "Epoch: 12 - Loss: 34660701351.91075\n",
      "Epoch: 13 - Loss: 34593944648.11795\n",
      "Epoch: 14 - Loss: 34527747461.811646\n",
      "Epoch: 15 - Loss: 34462105103.42808\n",
      "Epoch: 16 - Loss: 34397012922.708786\n",
      "Epoch: 17 - Loss: 34332466308.371265\n",
      "Epoch: 18 - Loss: 34268460687.782135\n",
      "Epoch: 19 - Loss: 34204991526.63329\n",
      "Epoch: 20 - Loss: 34142054328.62069\n",
      "Epoch: 21 - Loss: 34079644635.1258\n",
      "Epoch: 22 - Loss: 34017758024.899742\n",
      "Epoch: 23 - Loss: 33956390113.75007\n",
      "Epoch: 24 - Loss: 33895536554.230213\n",
      "Epoch: 25 - Loss: 33835193035.331482\n",
      "Epoch: 26 - Loss: 33775355282.177605\n",
      "Epoch: 27 - Loss: 33716019055.722034\n",
      "Epoch: 28 - Loss: 33657180152.44745\n",
      "Epoch: 29 - Loss: 33598834404.06814\n",
      "Epoch: 30 - Loss: 33540977677.234608\n",
      "Epoch: 31 - Loss: 33483605873.240814\n",
      "Epoch: 32 - Loss: 33426714927.73374\n",
      "Epoch: 33 - Loss: 33370300810.425568\n",
      "Epoch: 34 - Loss: 33314359524.808064\n",
      "Epoch: 35 - Loss: 33258887107.86952\n",
      "Epoch: 36 - Loss: 33203879629.813976\n",
      "Epoch: 37 - Loss: 33149333193.782856\n",
      "Epoch: 38 - Loss: 33095243935.57882\n",
      "Epoch: 39 - Loss: 33041608023.39214\n",
      "Epoch: 40 - Loss: 32988421657.529137\n",
      "Epoch: 41 - Loss: 32935681070.143105\n",
      "Epoch: 42 - Loss: 32883382524.967255\n",
      "Epoch: 43 - Loss: 32831522317.050133\n",
      "Epoch: 44 - Loss: 32780096772.493156\n",
      "Epoch: 45 - Loss: 32729102248.19027\n",
      "Epoch: 46 - Loss: 32678535131.569935\n",
      "Epoch: 47 - Loss: 32628391840.33914\n",
      "Epoch: 48 - Loss: 32578668822.229687\n",
      "Epoch: 49 - Loss: 32529362554.74649\n",
      "Epoch: 50 - Loss: 32480469544.918068\n",
      "Epoch: 51 - Loss: 32431986329.049084\n",
      "Epoch: 52 - Loss: 32383909472.474937\n",
      "Epoch: 53 - Loss: 32336235569.31849\n",
      "Epoch: 54 - Loss: 32288961242.24879\n",
      "Epoch: 55 - Loss: 32242083142.24175\n",
      "Epoch: 56 - Loss: 32195597948.34295\n",
      "Epoch: 57 - Loss: 32149502367.432392\n",
      "Epoch: 58 - Loss: 32103793133.99112\n",
      "Epoch: 59 - Loss: 32058467009.869984\n",
      "Epoch: 60 - Loss: 32013520784.06015\n",
      "Epoch: 61 - Loss: 31968951272.46571\n",
      "Epoch: 62 - Loss: 31924755317.67808\n",
      "Epoch: 63 - Loss: 31880929788.75228\n",
      "Epoch: 64 - Loss: 31837471580.98517\n",
      "Epoch: 65 - Loss: 31794377615.695534\n",
      "Epoch: 66 - Loss: 31751644840.0059\n",
      "Epoch: 67 - Loss: 31709270226.626373\n",
      "Epoch: 68 - Loss: 31667250773.640038\n",
      "Epoch: 69 - Loss: 31625583504.290447\n",
      "Epoch: 70 - Loss: 31584265466.77062\n",
      "Epoch: 71 - Loss: 31543293734.014\n",
      "Epoch: 72 - Loss: 31502665403.48707\n",
      "Epoch: 73 - Loss: 31462377596.983715\n",
      "Epoch: 74 - Loss: 31422427460.421345\n",
      "Epoch: 75 - Loss: 31382812163.63871\n",
      "Epoch: 76 - Loss: 31343528900.195385\n",
      "Epoch: 77 - Loss: 31304574887.172985\n",
      "Epoch: 78 - Loss: 31265947364.977966\n",
      "Epoch: 79 - Loss: 31227643597.146168\n",
      "Epoch: 80 - Loss: 31189660870.148956\n",
      "Epoch: 81 - Loss: 31151996493.20097\n",
      "Epoch: 82 - Loss: 31114647798.06954\n",
      "Epoch: 83 - Loss: 31077612138.885597\n",
      "Epoch: 84 - Loss: 31040886891.956306\n",
      "Epoch: 85 - Loss: 31004469455.579113\n",
      "Epoch: 86 - Loss: 30968357249.857544\n",
      "Epoch: 87 - Loss: 30932547716.518364\n",
      "Epoch: 88 - Loss: 30897038318.73034\n",
      "Epoch: 89 - Loss: 30861826540.924538\n",
      "Epoch: 90 - Loss: 30826909888.616142\n",
      "Epoch: 91 - Loss: 30792285888.22773\n",
      "Epoch: 92 - Loss: 30757952086.914\n",
      "Epoch: 93 - Loss: 30723906052.388012\n",
      "Epoch: 94 - Loss: 30690145372.748974\n",
      "Epoch: 95 - Loss: 30656667656.31123\n",
      "Epoch: 96 - Loss: 30623470531.43493\n",
      "Epoch: 97 - Loss: 30590551646.357983\n",
      "Epoch: 98 - Loss: 30557908669.02948\n",
      "Epoch: 99 - Loss: 30525539286.944416\n"
     ]
    },
    {
     "data": {
      "text/plain": [
       "{'loss': 33803531036.043594,\n",
       " 'weight': array([-62216.82784525,  61757.85970339])}"
      ]
     },
     "execution_count": 538,
     "metadata": {},
     "output_type": "execute_result"
    }
   ],
   "source": [
    "linear_model = LinearRegression(X_linear, y, learning_rate=0.01, num_epochs=100)\n",
    "linear_model.fit()"
   ]
  },
  {
   "cell_type": "code",
   "execution_count": 539,
   "id": "5ada9274",
   "metadata": {},
   "outputs": [],
   "source": [
    "y_pred = linear_model.predict(X_linear)"
   ]
  },
  {
   "cell_type": "code",
   "execution_count": 540,
   "id": "ee60e3d3",
   "metadata": {},
   "outputs": [
    {
     "data": {
      "text/plain": [
       "0.6219614354052863"
      ]
     },
     "execution_count": 540,
     "metadata": {},
     "output_type": "execute_result"
    }
   ],
   "source": [
    "r2score(y_pred, y)"
   ]
  },
  {
   "cell_type": "code",
   "execution_count": 541,
   "id": "cbdd017c",
   "metadata": {},
   "outputs": [
    {
     "data": {
      "text/plain": [
       "0.6219614354052863"
      ]
     },
     "execution_count": 541,
     "metadata": {},
     "output_type": "execute_result"
    }
   ],
   "source": [
    "r2score(y_pred, y)"
   ]
  },
  {
   "cell_type": "code",
   "execution_count": 542,
   "id": "2381fe12",
   "metadata": {},
   "outputs": [
    {
     "data": {
      "text/plain": [
       "array([-62216.82784525,  61757.85970339])"
      ]
     },
     "execution_count": 542,
     "metadata": {},
     "output_type": "execute_result"
    }
   ],
   "source": [
    "linear_model.theta"
   ]
  },
  {
   "cell_type": "code",
   "execution_count": 543,
   "id": "172d61d1",
   "metadata": {},
   "outputs": [
    {
     "data": {
      "image/png": "[encoded data removed]",
      "text/plain": [
       "<Figure size 640x480 with 1 Axes>"
      ]
     },
     "metadata": {},
     "output_type": "display_data"
    }
   ],
   "source": [
    "plt.scatter(X,y)\n",
    "plt.plot(X, linear_model.theta[1]*X + linear_model.theta[0], '--k')\n",
    "plt.show()"
   ]
  },
  {
   "cell_type": "markdown",
   "id": "80e281e1",
   "metadata": {},
   "source": [
    "# Polymial Regression"
   ]
  },
  {
   "cell_type": "code",
   "execution_count": 544,
   "id": "4a882f23",
   "metadata": {},
   "outputs": [],
   "source": [
    "def create_polynomial_features(X, degree=2):\n",
    "    \"\"\"Creates the polynomial features\n",
    "    Args:\n",
    "        X: Array tensor for the data.\n",
    "        degree: A intege for the degree of\n",
    "        the generated polynomial function.\n",
    "    \"\"\"\n",
    "    X_new = X\n",
    "    for d in range(2, degree+1):\n",
    "        X_new = np.c_[X_new, np.power(X, d)]\n",
    "    return X_new"
   ]
  },
  {
   "cell_type": "markdown",
   "id": "172f93be",
   "metadata": {},
   "source": [
    "# Polymial Regression with degree = 2"
   ]
  },
  {
   "cell_type": "code",
   "execution_count": 545,
   "id": "4764c31e",
   "metadata": {},
   "outputs": [
    {
     "data": {
      "text/plain": [
       "array([[  1,   1],\n",
       "       [  2,   4],\n",
       "       [  3,   9],\n",
       "       [  4,  16],\n",
       "       [  5,  25],\n",
       "       [  6,  36],\n",
       "       [  7,  49],\n",
       "       [  8,  64],\n",
       "       [  9,  81],\n",
       "       [ 10, 100]], dtype=int64)"
      ]
     },
     "execution_count": 545,
     "metadata": {},
     "output_type": "execute_result"
    }
   ],
   "source": [
    "X_poly = create_polynomial_features(X, degree=2)\n",
    "X_poly"
   ]
  },
  {
   "cell_type": "code",
   "execution_count": 546,
   "id": "e13495a7",
   "metadata": {},
   "outputs": [
    {
     "data": {
      "text/plain": [
       "array([[  1.,   1.,   1.],\n",
       "       [  1.,   2.,   4.],\n",
       "       [  1.,   3.,   9.],\n",
       "       [  1.,   4.,  16.],\n",
       "       [  1.,   5.,  25.],\n",
       "       [  1.,   6.,  36.],\n",
       "       [  1.,   7.,  49.],\n",
       "       [  1.,   8.,  64.],\n",
       "       [  1.,   9.,  81.],\n",
       "       [  1.,  10., 100.]])"
      ]
     },
     "execution_count": 546,
     "metadata": {},
     "output_type": "execute_result"
    }
   ],
   "source": [
    "X_poly = np.hstack((np.ones((X_poly.shape[0], 1)), X_poly))\n",
    "X_poly"
   ]
  },
  {
   "cell_type": "code",
   "execution_count": 547,
   "id": "01c747d2",
   "metadata": {},
   "outputs": [
    {
     "name": "stdout",
     "output_type": "stream",
     "text": [
      "Epoch: 0 - Loss: 142895348729.65192\n",
      "Epoch: 1 - Loss: 130145536953.07632\n",
      "Epoch: 2 - Loss: 118672693424.1196\n",
      "Epoch: 3 - Loss: 108348917414.81618\n",
      "Epoch: 4 - Loss: 99059118693.39102\n",
      "Epoch: 5 - Loss: 90699734429.03983\n",
      "Epoch: 6 - Loss: 83177574611.11792\n",
      "Epoch: 7 - Loss: 76408783110.77585\n",
      "Epoch: 8 - Loss: 70317902802.33035\n",
      "Epoch: 9 - Loss: 64837034321.78145\n",
      "Epoch: 10 - Loss: 59905079083.80855\n",
      "Epoch: 11 - Loss: 55467058117.94319\n",
      "Epoch: 12 - Loss: 51473499129.893936\n",
      "Epoch: 13 - Loss: 47879884954.613556\n",
      "Epoch: 14 - Loss: 44646157252.13177\n",
      "Epoch: 15 - Loss: 41736269913.05509\n",
      "Epoch: 16 - Loss: 39117787194.829666\n",
      "Epoch: 17 - Loss: 36761522108.54819\n",
      "Epoch: 18 - Loss: 34641211024.818954\n",
      "Epoch: 19 - Loss: 32733220871.00758\n",
      "Epoch: 20 - Loss: 31016285655.509735\n",
      "Epoch: 21 - Loss: 29471269381.668793\n",
      "Epoch: 22 - Loss: 28080952708.16001\n",
      "Epoch: 23 - Loss: 26829840977.402794\n",
      "Epoch: 24 - Loss: 25703991471.785942\n",
      "Epoch: 25 - Loss: 24690857971.854477\n",
      "Epoch: 26 - Loss: 23779150883.49889\n",
      "Epoch: 27 - Loss: 22958711374.760693\n",
      "Epoch: 28 - Loss: 22220398119.055344\n",
      "Epoch: 29 - Loss: 21555985382.15798\n",
      "Epoch: 30 - Loss: 20958071316.764183\n",
      "Epoch: 31 - Loss: 20419995442.238316\n",
      "Epoch: 32 - Loss: 19935764389.564056\n",
      "Epoch: 33 - Loss: 19499985083.656998\n",
      "Epoch: 34 - Loss: 19107804618.11554\n",
      "Epoch: 35 - Loss: 18754856152.097607\n",
      "Epoch: 36 - Loss: 18437210226.14898\n",
      "Epoch: 37 - Loss: 18151330954.22272\n",
      "Epoch: 38 - Loss: 17894036603.492012\n",
      "Epoch: 39 - Loss: 17662464122.47641\n",
      "Epoch: 40 - Loss: 17454037222.019638\n",
      "Epoch: 41 - Loss: 17266437653.266495\n",
      "Epoch: 42 - Loss: 17097579362.428455\n",
      "Epoch: 43 - Loss: 16945585234.199753\n",
      "Epoch: 44 - Loss: 16808766164.54543\n",
      "Epoch: 45 - Loss: 16685602229.552319\n",
      "Epoch: 46 - Loss: 16574725740.40195\n",
      "Epoch: 47 - Loss: 16474905995.551868\n",
      "Epoch: 48 - Loss: 16385035560.13374\n",
      "Epoch: 49 - Loss: 16304117919.602497\n",
      "Epoch: 50 - Loss: 16231256369.992075\n",
      "Epoch: 51 - Loss: 16165644020.919598\n",
      "Epoch: 52 - Loss: 16106554799.885498\n",
      "Epoch: 53 - Loss: 16053335357.580006\n",
      "Epoch: 54 - Loss: 16005397783.95169\n",
      "Epoch: 55 - Loss: 15962213053.832108\n",
      "Epoch: 56 - Loss: 15923305129.044714\n",
      "Epoch: 57 - Loss: 15888245651.244617\n",
      "Epoch: 58 - Loss: 15856649166.321781\n",
      "Epoch: 59 - Loss: 15828168827.126608\n",
      "Epoch: 60 - Loss: 15802492526.608984\n",
      "Epoch: 61 - Loss: 15779339418.261026\n",
      "Epoch: 62 - Loss: 15758456785.071112\n",
      "Epoch: 63 - Loss: 15739617222.082478\n",
      "Epoch: 64 - Loss: 15722616101.145899\n",
      "Epoch: 65 - Loss: 15707269289.601858\n",
      "Epoch: 66 - Loss: 15693411097.458838\n",
      "Epoch: 67 - Loss: 15680892430.18159\n",
      "Epoch: 68 - Loss: 15669579126.495464\n",
      "Epoch: 69 - Loss: 15659350462.675848\n",
      "Epoch: 70 - Loss: 15650097806.647364\n",
      "Epoch: 71 - Loss: 15641723406.888195\n",
      "Epoch: 72 - Loss: 15634139302.637257\n",
      "Epoch: 73 - Loss: 15627266343.25476\n",
      "Epoch: 74 - Loss: 15621033305.803223\n",
      "Epoch: 75 - Loss: 15615376101.011377\n",
      "Epoch: 76 - Loss: 15610237058.76839\n",
      "Epoch: 77 - Loss: 15605564285.182827\n",
      "Epoch: 78 - Loss: 15601311084.03836\n",
      "Epoch: 79 - Loss: 15597435436.196259\n",
      "Epoch: 80 - Loss: 15593899531.140793\n",
      "Epoch: 81 - Loss: 15590669345.44492\n",
      "Epoch: 82 - Loss: 15587714263.456638\n",
      "Epoch: 83 - Loss: 15585006735.977386\n",
      "Epoch: 84 - Loss: 15582521973.12699\n",
      "Epoch: 85 - Loss: 15580237667.971241\n",
      "Epoch: 86 - Loss: 15578133747.8308\n",
      "Epoch: 87 - Loss: 15576192150.498957\n",
      "Epoch: 88 - Loss: 15574396622.873322\n",
      "Epoch: 89 - Loss: 15572732539.756527\n",
      "Epoch: 90 - Loss: 15571186740.805752\n",
      "Epoch: 91 - Loss: 15569747383.813385\n",
      "Epoch: 92 - Loss: 15568403812.683008\n",
      "Epoch: 93 - Loss: 15567146438.628864\n",
      "Epoch: 94 - Loss: 15565966633.274408\n",
      "Epoch: 95 - Loss: 15564856632.457966\n",
      "Epoch: 96 - Loss: 15563809449.673275\n",
      "Epoch: 97 - Loss: 15562818798.17979\n",
      "Epoch: 98 - Loss: 15561879020.914326\n",
      "Epoch: 99 - Loss: 15560985027.422815\n"
     ]
    },
    {
     "data": {
      "text/plain": [
       "{'loss': 28289663733.22926,\n",
       " 'weight': array([  57.38414776,  616.85089821, 6978.20081856])}"
      ]
     },
     "execution_count": 547,
     "metadata": {},
     "output_type": "execute_result"
    }
   ],
   "source": [
    "poly_model = LinearRegression(X_poly, y, learning_rate=0.00001, num_epochs=100)\n",
    "poly_model.fit()"
   ]
  },
  {
   "cell_type": "code",
   "execution_count": 548,
   "id": "31e9fbcb",
   "metadata": {},
   "outputs": [
    {
     "data": {
      "text/plain": [
       "0.8070952367791764"
      ]
     },
     "execution_count": 548,
     "metadata": {},
     "output_type": "execute_result"
    }
   ],
   "source": [
    "y_pred = poly_model.predict(X_poly)\n",
    "r2score(y_pred, y)"
   ]
  },
  {
   "cell_type": "code",
   "execution_count": 549,
   "id": "b71a56cc",
   "metadata": {},
   "outputs": [
    {
     "data": {
      "text/plain": [
       "array([  57.38414776,  616.85089821, 6978.20081856])"
      ]
     },
     "execution_count": 549,
     "metadata": {},
     "output_type": "execute_result"
    }
   ],
   "source": [
    "poly_model.theta"
   ]
  },
  {
   "cell_type": "code",
   "execution_count": 550,
   "id": "babc64eb",
   "metadata": {},
   "outputs": [
    {
     "data": {
      "image/png": "[encoded data removed]",
      "text/plain": [
       "<Figure size 640x480 with 1 Axes>"
      ]
     },
     "metadata": {},
     "output_type": "display_data"
    }
   ],
   "source": [
    "X_plot = df.Level\n",
    "y_func = poly_model.theta[2]*X*X + poly_model.theta[1]*X + poly_model.theta[0]\n",
    "plt.scatter(X_plot,y)\n",
    "plt.plot(X, y_func, '--k')\n",
    "plt.show()"
   ]
  },
  {
   "cell_type": "markdown",
   "id": "81047cda",
   "metadata": {},
   "source": [
    "# Ploymial Regression with degree = 3"
   ]
  },
  {
   "cell_type": "code",
   "execution_count": 551,
   "id": "b8491c1d",
   "metadata": {},
   "outputs": [
    {
     "data": {
      "text/plain": [
       "array([[   1,    1,    1],\n",
       "       [   2,    4,    8],\n",
       "       [   3,    9,   27],\n",
       "       [   4,   16,   64],\n",
       "       [   5,   25,  125],\n",
       "       [   6,   36,  216],\n",
       "       [   7,   49,  343],\n",
       "       [   8,   64,  512],\n",
       "       [   9,   81,  729],\n",
       "       [  10,  100, 1000]], dtype=int64)"
      ]
     },
     "execution_count": 551,
     "metadata": {},
     "output_type": "execute_result"
    }
   ],
   "source": [
    "X_poly = create_polynomial_features(X, degree=3)\n",
    "X_poly"
   ]
  },
  {
   "cell_type": "code",
   "execution_count": 552,
   "id": "b4de1b75",
   "metadata": {},
   "outputs": [
    {
     "data": {
      "text/plain": [
       "array([[   1.,    1.,    1.,    1.],\n",
       "       [   1.,    2.,    4.,    8.],\n",
       "       [   1.,    3.,    9.,   27.],\n",
       "       [   1.,    4.,   16.,   64.],\n",
       "       [   1.,    5.,   25.,  125.],\n",
       "       [   1.,    6.,   36.,  216.],\n",
       "       [   1.,    7.,   49.,  343.],\n",
       "       [   1.,    8.,   64.,  512.],\n",
       "       [   1.,    9.,   81.,  729.],\n",
       "       [   1.,   10.,  100., 1000.]])"
      ]
     },
     "execution_count": 552,
     "metadata": {},
     "output_type": "execute_result"
    }
   ],
   "source": [
    "X_poly = np.hstack((np.ones((X_poly.shape[0], 1)), X_poly))\n",
    "X_poly"
   ]
  },
  {
   "cell_type": "code",
   "execution_count": 553,
   "id": "b1956ebf",
   "metadata": {},
   "outputs": [
    {
     "name": "stdout",
     "output_type": "stream",
     "text": [
      "Epoch: 0 - Loss: 143321104615.8239\n",
      "Epoch: 1 - Loss: 55978135117.60185\n",
      "Epoch: 2 - Loss: 24605405659.2053\n",
      "Epoch: 3 - Loss: 13336437627.45606\n",
      "Epoch: 4 - Loss: 9288471799.231592\n",
      "Epoch: 5 - Loss: 7834193433.336046\n",
      "Epoch: 6 - Loss: 7311532988.341418\n",
      "Epoch: 7 - Loss: 7123497323.490291\n",
      "Epoch: 8 - Loss: 7055654490.386075\n",
      "Epoch: 9 - Loss: 7030983402.245898\n",
      "Epoch: 10 - Loss: 7021819115.216278\n",
      "Epoch: 11 - Loss: 7018224751.597078\n",
      "Epoch: 12 - Loss: 7016631117.8482895\n",
      "Epoch: 13 - Loss: 7015756207.380369\n",
      "Epoch: 14 - Loss: 7015139540.553766\n",
      "Epoch: 15 - Loss: 7014615719.217319\n",
      "Epoch: 16 - Loss: 7014125334.542267\n",
      "Epoch: 17 - Loss: 7013647047.646378\n",
      "Epoch: 18 - Loss: 7013173193.862781\n",
      "Epoch: 19 - Loss: 7012701020.119868\n",
      "Epoch: 20 - Loss: 7012229537.525289\n",
      "Epoch: 21 - Loss: 7011758390.85632\n",
      "Epoch: 22 - Loss: 7011287452.495895\n",
      "Epoch: 23 - Loss: 7010816676.579832\n",
      "Epoch: 24 - Loss: 7010346046.608536\n",
      "Epoch: 25 - Loss: 7009875556.629771\n",
      "Epoch: 26 - Loss: 7009405204.479757\n",
      "Epoch: 27 - Loss: 7008934989.355525\n",
      "Epoch: 28 - Loss: 7008464910.942879\n",
      "Epoch: 29 - Loss: 7007994969.103175\n",
      "Epoch: 30 - Loss: 7007525163.760862\n",
      "Epoch: 31 - Loss: 7007055494.86304\n",
      "Epoch: 32 - Loss: 7006585962.364962\n",
      "Epoch: 33 - Loss: 7006116566.224798\n",
      "Epoch: 34 - Loss: 7005647306.401813\n",
      "Epoch: 35 - Loss: 7005178182.855631\n",
      "Epoch: 36 - Loss: 7004709195.54603\n",
      "Epoch: 37 - Loss: 7004240344.432863\n",
      "Epoch: 38 - Loss: 7003771629.47598\n",
      "Epoch: 39 - Loss: 7003303050.635294\n",
      "Epoch: 40 - Loss: 7002834607.870687\n",
      "Epoch: 41 - Loss: 7002366301.14209\n",
      "Epoch: 42 - Loss: 7001898130.409424\n",
      "Epoch: 43 - Loss: 7001430095.632635\n",
      "Epoch: 44 - Loss: 7000962196.771666\n",
      "Epoch: 45 - Loss: 7000494433.786487\n",
      "Epoch: 46 - Loss: 7000026806.63706\n",
      "Epoch: 47 - Loss: 6999559315.283386\n",
      "Epoch: 48 - Loss: 6999091959.685458\n",
      "Epoch: 49 - Loss: 6998624739.803294\n",
      "Epoch: 50 - Loss: 6998157655.596904\n",
      "Epoch: 51 - Loss: 6997690707.026331\n",
      "Epoch: 52 - Loss: 6997223894.051619\n",
      "Epoch: 53 - Loss: 6996757216.632815\n",
      "Epoch: 54 - Loss: 6996290674.730001\n",
      "Epoch: 55 - Loss: 6995824268.303253\n",
      "Epoch: 56 - Loss: 6995357997.312668\n",
      "Epoch: 57 - Loss: 6994891861.718355\n",
      "Epoch: 58 - Loss: 6994425861.4804125\n",
      "Epoch: 59 - Loss: 6993959996.558985\n",
      "Epoch: 60 - Loss: 6993494266.914213\n",
      "Epoch: 61 - Loss: 6993028672.5062275\n",
      "Epoch: 62 - Loss: 6992563213.295215\n",
      "Epoch: 63 - Loss: 6992097889.241339\n",
      "Epoch: 64 - Loss: 6991632700.304787\n",
      "Epoch: 65 - Loss: 6991167646.445761\n",
      "Epoch: 66 - Loss: 6990702727.6244755\n",
      "Epoch: 67 - Loss: 6990237943.801138\n",
      "Epoch: 68 - Loss: 6989773294.935999\n",
      "Epoch: 69 - Loss: 6989308780.989291\n",
      "Epoch: 70 - Loss: 6988844401.921277\n",
      "Epoch: 71 - Loss: 6988380157.6922245\n",
      "Epoch: 72 - Loss: 6987916048.262415\n",
      "Epoch: 73 - Loss: 6987452073.592134\n",
      "Epoch: 74 - Loss: 6986988233.641703\n",
      "Epoch: 75 - Loss: 6986524528.371419\n",
      "Epoch: 76 - Loss: 6986060957.741617\n",
      "Epoch: 77 - Loss: 6985597521.712631\n",
      "Epoch: 78 - Loss: 6985134220.2448225\n",
      "Epoch: 79 - Loss: 6984671053.298544\n",
      "Epoch: 80 - Loss: 6984208020.834173\n",
      "Epoch: 81 - Loss: 6983745122.812098\n",
      "Epoch: 82 - Loss: 6983282359.192713\n",
      "Epoch: 83 - Loss: 6982819729.936427\n",
      "Epoch: 84 - Loss: 6982357235.003659\n",
      "Epoch: 85 - Loss: 6981894874.354848\n",
      "Epoch: 86 - Loss: 6981432647.950435\n",
      "Epoch: 87 - Loss: 6980970555.75087\n",
      "Epoch: 88 - Loss: 6980508597.716623\n",
      "Epoch: 89 - Loss: 6980046773.808179\n",
      "Epoch: 90 - Loss: 6979585083.986025\n",
      "Epoch: 91 - Loss: 6979123528.210658\n",
      "Epoch: 92 - Loss: 6978662106.442598\n",
      "Epoch: 93 - Loss: 6978200818.642374\n",
      "Epoch: 94 - Loss: 6977739664.770514\n",
      "Epoch: 95 - Loss: 6977278644.787565\n",
      "Epoch: 96 - Loss: 6976817758.654108\n",
      "Epoch: 97 - Loss: 6976357006.330688\n",
      "Epoch: 98 - Loss: 6975896387.777914\n",
      "Epoch: 99 - Loss: 6975435902.956354\n"
     ]
    },
    {
     "data": {
      "text/plain": [
       "{'loss': 9125423040.091312,\n",
       " 'weight': array([  1.97827774,  -2.38797348,  24.55632322, 826.06382936])}"
      ]
     },
     "execution_count": 553,
     "metadata": {},
     "output_type": "execute_result"
    }
   ],
   "source": [
    "poly_model = LinearRegression(X_poly, y, learning_rate=0.000001, num_epochs=100)\n",
    "poly_model.fit()"
   ]
  },
  {
   "cell_type": "code",
   "execution_count": 554,
   "id": "8750cbac",
   "metadata": {},
   "outputs": [
    {
     "data": {
      "text/plain": [
       "0.9135286264414068"
      ]
     },
     "execution_count": 554,
     "metadata": {},
     "output_type": "execute_result"
    }
   ],
   "source": [
    "y_pred = poly_model.predict(X_poly)\n",
    "r2score(y_pred, y)"
   ]
  },
  {
   "cell_type": "code",
   "execution_count": 555,
   "id": "c7f25f99",
   "metadata": {},
   "outputs": [
    {
     "data": {
      "text/plain": [
       "array([  1.97827774,  -2.38797348,  24.55632322, 826.06382936])"
      ]
     },
     "execution_count": 555,
     "metadata": {},
     "output_type": "execute_result"
    }
   ],
   "source": [
    "poly_model.theta"
   ]
  },
  {
   "cell_type": "code",
   "execution_count": 556,
   "id": "bb098fe3",
   "metadata": {},
   "outputs": [
    {
     "data": {
      "image/png": "[encoded data removed]",
      "text/plain": [
       "<Figure size 640x480 with 1 Axes>"
      ]
     },
     "metadata": {},
     "output_type": "display_data"
    }
   ],
   "source": [
    "X_plot = df.Level\n",
    "y_func = poly_model.theta[3]*X*X*X + poly_model.theta[2]*X*X + poly_model.theta[1]*X + poly_model.theta[0]\n",
    "plt.scatter(X_plot,y)\n",
    "plt.plot(X, y_func, '--k')\n",
    "plt.show()"
   ]
  },
  {
   "cell_type": "markdown",
   "id": "f7bfc73a",
   "metadata": {},
   "source": [
    "# Sklearn"
   ]
  },
  {
   "cell_type": "code",
   "execution_count": 557,
   "id": "677ed873",
   "metadata": {},
   "outputs": [],
   "source": [
    "from sklearn.preprocessing import PolynomialFeatures"
   ]
  },
  {
   "cell_type": "code",
   "execution_count": 558,
   "id": "fbb8fc17",
   "metadata": {},
   "outputs": [],
   "source": [
    "poly_features = PolynomialFeatures(degree=2)"
   ]
  },
  {
   "cell_type": "code",
   "execution_count": 559,
   "id": "0856f0bd",
   "metadata": {},
   "outputs": [
    {
     "data": {
      "text/html": [
       "<div>\n",
       "<style scoped>\n",
       "    .dataframe tbody tr th:only-of-type {\n",
       "        vertical-align: middle;\n",
       "    }\n",
       "\n",
       "    .dataframe tbody tr th {\n",
       "        vertical-align: top;\n",
       "    }\n",
       "\n",
       "    .dataframe thead th {\n",
       "        text-align: right;\n",
       "    }\n",
       "</style>\n",
       "<table border=\"1\" class=\"dataframe\">\n",
       "  <thead>\n",
       "    <tr style=\"text-align: right;\">\n",
       "      <th></th>\n",
       "      <th>Level</th>\n",
       "    </tr>\n",
       "  </thead>\n",
       "  <tbody>\n",
       "    <tr>\n",
       "      <th>0</th>\n",
       "      <td>1</td>\n",
       "    </tr>\n",
       "    <tr>\n",
       "      <th>1</th>\n",
       "      <td>2</td>\n",
       "    </tr>\n",
       "    <tr>\n",
       "      <th>2</th>\n",
       "      <td>3</td>\n",
       "    </tr>\n",
       "    <tr>\n",
       "      <th>3</th>\n",
       "      <td>4</td>\n",
       "    </tr>\n",
       "    <tr>\n",
       "      <th>4</th>\n",
       "      <td>5</td>\n",
       "    </tr>\n",
       "    <tr>\n",
       "      <th>5</th>\n",
       "      <td>6</td>\n",
       "    </tr>\n",
       "    <tr>\n",
       "      <th>6</th>\n",
       "      <td>7</td>\n",
       "    </tr>\n",
       "    <tr>\n",
       "      <th>7</th>\n",
       "      <td>8</td>\n",
       "    </tr>\n",
       "    <tr>\n",
       "      <th>8</th>\n",
       "      <td>9</td>\n",
       "    </tr>\n",
       "    <tr>\n",
       "      <th>9</th>\n",
       "      <td>10</td>\n",
       "    </tr>\n",
       "  </tbody>\n",
       "</table>\n",
       "</div>"
      ],
      "text/plain": [
       "   Level\n",
       "0      1\n",
       "1      2\n",
       "2      3\n",
       "3      4\n",
       "4      5\n",
       "5      6\n",
       "6      7\n",
       "7      8\n",
       "8      9\n",
       "9     10"
      ]
     },
     "execution_count": 559,
     "metadata": {},
     "output_type": "execute_result"
    }
   ],
   "source": [
    "X.to_frame()"
   ]
  },
  {
   "cell_type": "code",
   "execution_count": 560,
   "id": "8982fa9a",
   "metadata": {},
   "outputs": [
    {
     "data": {
      "text/plain": [
       "array([[  1.,   1.,   1.],\n",
       "       [  1.,   2.,   4.],\n",
       "       [  1.,   3.,   9.],\n",
       "       [  1.,   4.,  16.],\n",
       "       [  1.,   5.,  25.],\n",
       "       [  1.,   6.,  36.],\n",
       "       [  1.,   7.,  49.],\n",
       "       [  1.,   8.,  64.],\n",
       "       [  1.,   9.,  81.],\n",
       "       [  1.,  10., 100.]])"
      ]
     },
     "execution_count": 560,
     "metadata": {},
     "output_type": "execute_result"
    }
   ],
   "source": [
    "X_poly = poly_features.fit_transform(X.to_frame())\n",
    "X_poly"
   ]
  },
  {
   "cell_type": "code",
   "execution_count": 561,
   "id": "2ce6414d",
   "metadata": {},
   "outputs": [
    {
     "name": "stdout",
     "output_type": "stream",
     "text": [
      "Epoch: 0 - Loss: 142877103079.8474\n",
      "Epoch: 1 - Loss: 45660609807.253204\n",
      "Epoch: 2 - Loss: 22695558029.06951\n",
      "Epoch: 3 - Loss: 17267779157.450966\n",
      "Epoch: 4 - Loss: 15982090417.092266\n",
      "Epoch: 5 - Loss: 15674715872.734547\n",
      "Epoch: 6 - Loss: 15598410908.196934\n",
      "Epoch: 7 - Loss: 15576685614.585133\n",
      "Epoch: 8 - Loss: 15567855261.537527\n",
      "Epoch: 9 - Loss: 15562074428.871103\n",
      "Epoch: 10 - Loss: 15557017746.33083\n",
      "Epoch: 11 - Loss: 15552135986.131851\n",
      "Epoch: 12 - Loss: 15547299423.30251\n",
      "Epoch: 13 - Loss: 15542477414.233906\n",
      "Epoch: 14 - Loss: 15537662717.109894\n",
      "Epoch: 15 - Loss: 15532853617.331848\n",
      "Epoch: 16 - Loss: 15528049705.765797\n",
      "Epoch: 17 - Loss: 15523250881.616833\n",
      "Epoch: 18 - Loss: 15518457116.92038\n",
      "Epoch: 19 - Loss: 15513668400.917969\n",
      "Epoch: 20 - Loss: 15508884726.919453\n",
      "Epoch: 21 - Loss: 15504106089.200085\n",
      "Epoch: 22 - Loss: 15499332482.267542\n",
      "Epoch: 23 - Loss: 15494563900.688904\n",
      "Epoch: 24 - Loss: 15489800339.049719\n",
      "Epoch: 25 - Loss: 15485041791.944345\n",
      "Epoch: 26 - Loss: 15480288253.973658\n",
      "Epoch: 27 - Loss: 15475539719.744532\n",
      "Epoch: 28 - Loss: 15470796183.869684\n",
      "Epoch: 29 - Loss: 15466057640.967651\n",
      "Epoch: 30 - Loss: 15461324085.662745\n",
      "Epoch: 31 - Loss: 15456595512.585108\n",
      "Epoch: 32 - Loss: 15451871916.370625\n",
      "Epoch: 33 - Loss: 15447153291.661\n",
      "Epoch: 34 - Loss: 15442439633.103668\n",
      "Epoch: 35 - Loss: 15437730935.351862\n",
      "Epoch: 36 - Loss: 15433027193.064564\n",
      "Epoch: 37 - Loss: 15428328400.9065\n",
      "Epoch: 38 - Loss: 15423634553.548162\n",
      "Epoch: 39 - Loss: 15418945645.665771\n",
      "Epoch: 40 - Loss: 15414261671.941278\n",
      "Epoch: 41 - Loss: 15409582627.062368\n",
      "Epoch: 42 - Loss: 15404908505.722462\n",
      "Epoch: 43 - Loss: 15400239302.620678\n",
      "Epoch: 44 - Loss: 15395575012.461853\n",
      "Epoch: 45 - Loss: 15390915629.956528\n",
      "Epoch: 46 - Loss: 15386261149.820932\n",
      "Epoch: 47 - Loss: 15381611566.777004\n",
      "Epoch: 48 - Loss: 15376966875.552364\n",
      "Epoch: 49 - Loss: 15372327070.880295\n",
      "Epoch: 50 - Loss: 15367692147.499765\n",
      "Epoch: 51 - Loss: 15363062100.15542\n",
      "Epoch: 52 - Loss: 15358436923.597553\n",
      "Epoch: 53 - Loss: 15353816612.582111\n",
      "Epoch: 54 - Loss: 15349201161.870691\n",
      "Epoch: 55 - Loss: 15344590566.230549\n",
      "Epoch: 56 - Loss: 15339984820.434559\n",
      "Epoch: 57 - Loss: 15335383919.261225\n",
      "Epoch: 58 - Loss: 15330787857.494696\n",
      "Epoch: 59 - Loss: 15326196629.924713\n",
      "Epoch: 60 - Loss: 15321610231.346655\n",
      "Epoch: 61 - Loss: 15317028656.561499\n",
      "Epoch: 62 - Loss: 15312451900.3758\n",
      "Epoch: 63 - Loss: 15307879957.601746\n",
      "Epoch: 64 - Loss: 15303312823.05708\n",
      "Epoch: 65 - Loss: 15298750491.565155\n",
      "Epoch: 66 - Loss: 15294192957.954874\n",
      "Epoch: 67 - Loss: 15289640217.060736\n",
      "Epoch: 68 - Loss: 15285092263.722778\n",
      "Epoch: 69 - Loss: 15280549092.786621\n",
      "Epoch: 70 - Loss: 15276010699.103418\n",
      "Epoch: 71 - Loss: 15271477077.529888\n",
      "Epoch: 72 - Loss: 15266948222.928265\n",
      "Epoch: 73 - Loss: 15262424130.166348\n",
      "Epoch: 74 - Loss: 15257904794.117432\n",
      "Epoch: 75 - Loss: 15253390209.66036\n",
      "Epoch: 76 - Loss: 15248880371.679483\n",
      "Epoch: 77 - Loss: 15244375275.06467\n",
      "Epoch: 78 - Loss: 15239874914.71127\n",
      "Epoch: 79 - Loss: 15235379285.520157\n",
      "Epoch: 80 - Loss: 15230888382.397686\n",
      "Epoch: 81 - Loss: 15226402200.255713\n",
      "Epoch: 82 - Loss: 15221920734.011555\n",
      "Epoch: 83 - Loss: 15217443978.588007\n",
      "Epoch: 84 - Loss: 15212971928.913355\n",
      "Epoch: 85 - Loss: 15208504579.921314\n",
      "Epoch: 86 - Loss: 15204041926.551096\n",
      "Epoch: 87 - Loss: 15199583963.74733\n",
      "Epoch: 88 - Loss: 15195130686.460104\n",
      "Epoch: 89 - Loss: 15190682089.644953\n",
      "Epoch: 90 - Loss: 15186238168.262842\n",
      "Epoch: 91 - Loss: 15181798917.280151\n",
      "Epoch: 92 - Loss: 15177364331.668705\n",
      "Epoch: 93 - Loss: 15172934406.405727\n",
      "Epoch: 94 - Loss: 15168509136.473858\n",
      "Epoch: 95 - Loss: 15164088516.861134\n",
      "Epoch: 96 - Loss: 15159672542.561016\n",
      "Epoch: 97 - Loss: 15155261208.572336\n",
      "Epoch: 98 - Loss: 15150854509.899307\n",
      "Epoch: 99 - Loss: 15146452441.55155\n"
     ]
    },
    {
     "data": {
      "text/plain": [
       "{'loss': 17038309382.572344,\n",
       " 'weight': array([ -357.61431866, -1251.3782914 ,  7244.03721915])}"
      ]
     },
     "execution_count": 561,
     "metadata": {},
     "output_type": "execute_result"
    }
   ],
   "source": [
    "poly_model = LinearRegression(X_poly, y, learning_rate=0.0001, num_epochs= 100)\n",
    "poly_model.fit()"
   ]
  },
  {
   "cell_type": "code",
   "execution_count": 562,
   "id": "b4910726",
   "metadata": {},
   "outputs": [
    {
     "data": {
      "text/plain": [
       "0.8122782962470791"
      ]
     },
     "execution_count": 562,
     "metadata": {},
     "output_type": "execute_result"
    }
   ],
   "source": [
    "y_pred = poly_model.predict(X_poly)\n",
    "r2score(y_pred, y)"
   ]
  },
  {
   "cell_type": "code",
   "execution_count": 563,
   "id": "9302d4cd",
   "metadata": {},
   "outputs": [
    {
     "data": {
      "image/png": "[encoded data removed]",
      "text/plain": [
       "<Figure size 640x480 with 1 Axes>"
      ]
     },
     "metadata": {},
     "output_type": "display_data"
    }
   ],
   "source": [
    "X_plot = df.Level\n",
    "y_func = poly_model.theta[2]*X*X + poly_model.theta[1]*X + poly_model.theta[0]\n",
    "plt.scatter(X_plot,y)\n",
    "plt.plot(X, y_func, '--k')\n",
    "plt.show()"
   ]
  },
  {
   "cell_type": "markdown",
   "id": "2c80d544",
   "metadata": {},
   "source": [
    "# Curve Fit from Scipy"
   ]
  },
  {
   "cell_type": "code",
   "execution_count": 564,
   "id": "3a4dd5cf",
   "metadata": {},
   "outputs": [],
   "source": [
    "from scipy import optimize"
   ]
  },
  {
   "cell_type": "code",
   "execution_count": 565,
   "id": "ae3af5d5",
   "metadata": {},
   "outputs": [],
   "source": [
    "def func(x, a, b):\n",
    "    #y = a*x + b\n",
    "    y = a*np.exp(b*X)\n",
    "    return y"
   ]
  },
  {
   "cell_type": "code",
   "execution_count": 566,
   "id": "f8a2230b",
   "metadata": {},
   "outputs": [
    {
     "data": {
      "text/plain": [
       "0     1\n",
       "1     2\n",
       "2     3\n",
       "3     4\n",
       "4     5\n",
       "5     6\n",
       "6     7\n",
       "7     8\n",
       "8     9\n",
       "9    10\n",
       "Name: Level, dtype: int64"
      ]
     },
     "execution_count": 566,
     "metadata": {},
     "output_type": "execute_result"
    }
   ],
   "source": [
    "X"
   ]
  },
  {
   "cell_type": "code",
   "execution_count": 567,
   "id": "9eb61a52",
   "metadata": {},
   "outputs": [
    {
     "data": {
      "text/plain": [
       "0      45000\n",
       "1      50000\n",
       "2      60000\n",
       "3      80000\n",
       "4     110000\n",
       "5     150000\n",
       "6     200000\n",
       "7     300000\n",
       "8     500000\n",
       "9    1000000\n",
       "Name: Salary, dtype: int64"
      ]
     },
     "execution_count": 567,
     "metadata": {},
     "output_type": "execute_result"
    }
   ],
   "source": [
    "y"
   ]
  },
  {
   "cell_type": "code",
   "execution_count": 568,
   "id": "ca16456c",
   "metadata": {},
   "outputs": [
    {
     "data": {
      "text/plain": [
       "(array([4.58939085e+03, 5.34689945e-01]),\n",
       " array([[ 3.29357041e+06, -7.50606612e+01],\n",
       "        [-7.50606612e+01,  1.72574611e-03]]))"
      ]
     },
     "execution_count": 568,
     "metadata": {},
     "output_type": "execute_result"
    }
   ],
   "source": [
    "optimize.curve_fit(func, xdata = X, ydata = y)"
   ]
  },
  {
   "cell_type": "code",
   "execution_count": 569,
   "id": "c169de3b",
   "metadata": {},
   "outputs": [
    {
     "name": "stdout",
     "output_type": "stream",
     "text": [
      "alpha=4589.390851556285, beta=0.5346899447541074\n"
     ]
    }
   ],
   "source": [
    "alpha, beta = optimize.curve_fit(func, xdata = X, ydata = y)[0]\n",
    "print(f'alpha={alpha}, beta={beta}')"
   ]
  },
  {
   "cell_type": "code",
   "execution_count": 570,
   "id": "2eec6f90",
   "metadata": {},
   "outputs": [],
   "source": [
    "y_pred = func(X, alpha, beta)"
   ]
  },
  {
   "cell_type": "code",
   "execution_count": 571,
   "id": "35631359",
   "metadata": {},
   "outputs": [
    {
     "data": {
      "text/plain": [
       "0.9808034598161927"
      ]
     },
     "execution_count": 571,
     "metadata": {},
     "output_type": "execute_result"
    }
   ],
   "source": [
    "r2score(y_pred, y)"
   ]
  },
  {
   "cell_type": "code",
   "execution_count": 572,
   "id": "7b538334",
   "metadata": {},
   "outputs": [
    {
     "data": {
      "image/png": "[encoded data removed]",
      "text/plain": [
       "<Figure size 640x480 with 1 Axes>"
      ]
     },
     "metadata": {},
     "output_type": "display_data"
    }
   ],
   "source": [
    "plt.plot(X, y, 'b.')\n",
    "plt.plot(X, alpha*np.exp(beta*X), 'r')\n",
    "plt.xlabel('x')\n",
    "plt.ylabel('y')\n",
    "plt.show()"
   ]
  }
 ],
 "metadata": {
  "kernelspec": {
   "display_name": "Python 3",
   "language": "python",
   "name": "python3"
  },
  "language_info": {
   "codemirror_mode": {
    "name": "ipython",
    "version": 3
   },
   "file_extension": ".py",
   "mimetype": "text/x-python",
   "name": "python",
   "nbconvert_exporter": "python",
   "pygments_lexer": "ipython3",
   "version": "3.11.8"
  }
 },
 "nbformat": 4,
 "nbformat_minor": 5
}
